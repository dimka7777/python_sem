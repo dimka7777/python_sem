{
  "cells": [
    {
      "cell_type": "markdown",
      "metadata": {},
      "source": [
        "Домашнее задание: \n",
        "\n",
        "1.  Создайте по одной переменной типа list, tuple, str. Выведете их с помощью одной команды print друг под другом, используя f-строки. \n",
        "2.\tСоздайте телефонную книгу на 5 контактов с помощью словаря. Ключ - Имя, значение -  телефон. \n",
        "3.\tС помощью цикла for выведите только те контакты, длина имени которых больше 5.\n",
        "Формат вывода: «Имя: Василий; Телефон: +79109776655»\n",
        "4.\tНапишите функцию my_div(a, b, zero_mode=False), принимающую 3 аргумента Функция должна выполнять операцию деления a / b.\n",
        "В случае деления на ноль при zero_mode =  False, выводится сообщение «Деление на 0». В случае деления на ноль при zero_mode = True, возвращается значение inf. Придумайте решение с использованием try – except. Функция не должна выдавать ломаться даже при неверных входных данных.\n",
        "*для использования inf необходимо подключить библиотеку numpy (import numpy as np)\n"
      ]
    },
    {
      "cell_type": "markdown",
      "metadata": {},
      "source": [
        "№1\n",
        "1.  Создайте по одной переменной типа list, tuple, str. Выведете их с помощью одной команды print друг под другом, используя f-строки."
      ]
    },
    {
      "cell_type": "code",
      "execution_count": 6,
      "metadata": {},
      "outputs": [
        {
          "name": "stdout",
          "output_type": "stream",
          "text": [
            "[1, 2, 2, 2]\n",
            "(1, 2, 2, 2)\n",
            "1222\n"
          ]
        }
      ],
      "source": [
        "a_list = [1,2,2,2]\n",
        "b_tuple = (1,2,2,2)\n",
        "c_str = '1222'\n",
        "print(f'{a_list}\\n{b_tuple}\\n{c_str}')"
      ]
    },
    {
      "cell_type": "markdown",
      "metadata": {},
      "source": [
        "№2\n",
        "2.\tСоздайте телефонную книгу на 5 контактов с помощью словаря. Ключ - Имя, значение -  телефон. "
      ]
    },
    {
      "cell_type": "code",
      "execution_count": 8,
      "metadata": {},
      "outputs": [
        {
          "name": "stdout",
          "output_type": "stream",
          "text": [
            "{'Дмитрий': 89258896637, 'Дима': 89258896638, 'Митя': 89258896639, 'Димитрий': 89258896640, 'Димуша': 89258896641}\n"
          ]
        }
      ],
      "source": [
        "a_dict = {  'Дмитрий'   : 89258896637, \n",
        "            'Дима'      : 89258896638, \n",
        "            'Митя'      : 89258896639, \n",
        "            'Димитрий'  : 89258896640,\n",
        "            'Димуша'    : 89258896641}\n",
        "print(a_dict)"
      ]
    },
    {
      "cell_type": "markdown",
      "metadata": {},
      "source": [
        "№3\n",
        "3.\tС помощью цикла for выведите только те контакты, длина имени которых больше 5.\n",
        "Формат вывода: «Имя: Василий; Телефон: +79109776655»"
      ]
    },
    {
      "cell_type": "code",
      "execution_count": 10,
      "metadata": {},
      "outputs": [
        {
          "name": "stdout",
          "output_type": "stream",
          "text": [
            "89258896637\n",
            "89258896640\n",
            "89258896641\n"
          ]
        }
      ],
      "source": [
        "for name in a_dict.keys():\n",
        "    if len(name) > 5:\n",
        "        print(a_dict[name])"
      ]
    },
    {
      "cell_type": "markdown",
      "metadata": {},
      "source": [
        "№4\n",
        "4. Напишите функцию my_div(a, b, zero_mode=False), принимающую 3 аргумента Функция должна выполнять операцию деления a / b.\n",
        "В случае деления на ноль при zero_mode =  False, выводится сообщение «Деление на 0». В случае деления на ноль при zero_mode = True, возвращается значение inf. Придумайте решение с использованием try – except. Функция не должна выдавать ломаться даже при неверных входных данных.\n",
        "*для использования inf необходимо подключить библиотеку numpy (import numpy as np)"
      ]
    },
    {
      "cell_type": "code",
      "execution_count": 21,
      "metadata": {},
      "outputs": [
        {
          "name": "stdout",
          "output_type": "stream",
          "text": [
            "inf \n",
            " Деление на 0 \n",
            " 1.0\n",
            "Что-то не так\n",
            "None\n"
          ]
        }
      ],
      "source": [
        "import numpy as np\n",
        "\n",
        "def my_div(a, b, zero_mode=False):\n",
        "    try:\n",
        "        if zero_mode == False and b == 0:\n",
        "            c = 'Деление на 0'\n",
        "        elif zero_mode == True and b == 0:\n",
        "            c = np.Inf\n",
        "        else:\n",
        "            c = a/b\n",
        "        return c\n",
        "    except:\n",
        "        print(\"Что-то не так\")\n",
        "\n",
        "print(my_div(5, 0, True), '\\n' , my_div(5, 0, False), '\\n', my_div(5, 5, True))\n",
        "print(my_div(5, 0, 5))"
      ]
    }
  ],
  "metadata": {
    "colab": {
      "provenance": []
    },
    "kernelspec": {
      "display_name": "Python 3.10.4 64-bit",
      "language": "python",
      "name": "python3"
    },
    "language_info": {
      "codemirror_mode": {
        "name": "ipython",
        "version": 3
      },
      "file_extension": ".py",
      "mimetype": "text/x-python",
      "name": "python",
      "nbconvert_exporter": "python",
      "pygments_lexer": "ipython3",
      "version": "3.10.4"
    },
    "orig_nbformat": 4,
    "vscode": {
      "interpreter": {
        "hash": "26de051ba29f2982a8de78e945f0abaf191376122a1563185a90213a26c5da77"
      }
    }
  },
  "nbformat": 4,
  "nbformat_minor": 0
}
