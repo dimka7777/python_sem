{
  "cells": [
    {
      "cell_type": "markdown",
      "metadata": {
        "id": "mos0jYqW4sqY"
      },
      "source": [
        "**Семинар по Python**"
      ]
    },
    {
      "cell_type": "markdown",
      "metadata": {
        "id": "ZwjrROX24sqb"
      },
      "source": [
        "*Общие сведения*"
      ]
    },
    {
      "cell_type": "code",
      "execution_count": 1,
      "metadata": {
        "id": "mBGLY_FU4sqd",
        "outputId": "8a183f83-91a2-433e-84fc-d806dcadc041"
      },
      "outputs": [
        {
          "name": "stdout",
          "output_type": "stream",
          "text": [
            "Hello, otd 7!\n"
          ]
        }
      ],
      "source": [
        "print('Hello, otd 7!')"
      ]
    },
    {
      "cell_type": "code",
      "execution_count": 2,
      "metadata": {
        "id": "tU7-TrCW4sqf"
      },
      "outputs": [],
      "source": [
        "import sys"
      ]
    },
    {
      "cell_type": "markdown",
      "metadata": {
        "id": "-6bb5fKX4sqh"
      },
      "source": [
        "Все сущности, создаваемые в Python - объекты, отдельные классы.\n",
        "Поэтому у каждой есть втроенные методы. Даже у обычного int "
      ]
    },
    {
      "cell_type": "code",
      "execution_count": 3,
      "metadata": {
        "id": "W8zBiJIr4sqi",
        "outputId": "531424d9-8041-46b0-bd44-e2e713813164"
      },
      "outputs": [
        {
          "data": {
            "text/plain": [
              "3"
            ]
          },
          "execution_count": 3,
          "metadata": {},
          "output_type": "execute_result"
        }
      ],
      "source": [
        "int(5).bit_length()"
      ]
    },
    {
      "cell_type": "markdown",
      "metadata": {
        "id": "g5H6T-vk4sqn"
      },
      "source": [
        "Размер int может динамически меняться. \n",
        "Целые числа реализованы с использованием long в C, что дает им по крайней мере 32-битную точность (sys.maxint всегда устанавливается на максимальное значение целого числа для текущей платформы; минимальное значение -sys.maxint - 1). Длинные целые числа имеют неограниченную точность.\n",
        "Несколько версий языка назад типы int  и long были рызными и можно было мат. операциями переполнить int в long.\n",
        "Сейчас эти типы объединены и есть только int."
      ]
    },
    {
      "cell_type": "code",
      "execution_count": null,
      "metadata": {
        "id": "dBMa4MGG4sqo",
        "outputId": "350d4980-e217-4454-9a6c-eae5083987df"
      },
      "outputs": [
        {
          "name": "stdout",
          "output_type": "stream",
          "text": [
            "3\n",
            "17\n",
            "41\n",
            "=============================\n",
            "<class 'int'>\n",
            "<class 'int'>\n"
          ]
        }
      ],
      "source": [
        "# Количество бит, необоходимое для двоичной записи числа\n",
        "print(int(5).bit_length()) \n",
        "print(int(123456).bit_length())\n",
        "print(int(1234567891346).bit_length())\n",
        "print('=============================')\n",
        "print(type(123))\n",
        "print(type(123456678990554654654566756))"
      ]
    },
    {
      "cell_type": "markdown",
      "metadata": {
        "id": "BhbizdLi4sqq"
      },
      "source": [
        "**Строки**"
      ]
    },
    {
      "cell_type": "code",
      "execution_count": null,
      "metadata": {
        "id": "CJGrsRdn4sqs",
        "outputId": "0ed7d42a-f35b-428a-c92e-d331c1b44783"
      },
      "outputs": [
        {
          "name": "stdout",
          "output_type": "stream",
          "text": [
            "Hello\n",
            "Hello\n",
            "'Hello'\n",
            "1e-05\n",
            "HelloHello\n",
            "HelloHelloHelloHelloHello\n"
          ]
        }
      ],
      "source": [
        "# Строки в python опредеделяются путем использования кавычек\n",
        "# В python нет разницы между одиночными ' кавыяками и двойными \" (конечно, используемые пары должны быть одного типа)\n",
        "a = 'Hello'\n",
        "b = \"Hello\"\n",
        "c = \"'Hello'\"\n",
        "d  = str(1e-5) \n",
        "print(a)\n",
        "print(b)\n",
        "print(c)\n",
        "print(d)\n",
        "\n",
        "# строки можно складывать и умножать\n",
        "print(a + b)\n",
        "print(a*5)"
      ]
    },
    {
      "cell_type": "code",
      "execution_count": null,
      "metadata": {
        "id": "7nPB7OUu4squ",
        "outputId": "3d156e32-9a2e-4b0a-8eb3-691291fac972"
      },
      "outputs": [
        {
          "name": "stdout",
          "output_type": "stream",
          "text": [
            "Пример f-строки: берем чиселки 1812.4691599999999, берем непонятную строку dsfdsfdsfdsfdsf\n",
            "\n",
            "как делали раньше (или как делается в с++)\n",
            "f_string = Пример f-строки: берем чиселки 1812.4691599999999, берем непонятную строку dsfdsfdsfdsfdsf\n",
            "f_string = Пример f-строки: берем чиселки 1812.4691599999999, берем непонятную строку dsfdsfdsfdsfdsf\n",
            "\n",
            "как можно делать в python 3.9 и выше\n",
            "f_string = 'Пример f-строки: берем чиселки 1812.4691599999999, берем непонятную строку dsfdsfdsfdsfdsf'\n"
          ]
        }
      ],
      "source": [
        "# в Python есть \"усовершенствованный тип\" строки  - f-строка, позволяющая удобно \n",
        "# собирать строку из разных типов или вычисляемых выражений \n",
        "f_string = f'Пример f-строки: берем чиселки {1454*1.24654}, берем непонятную строку {\"dsf\"*5}'\n",
        "print(f_string)\n",
        "\n",
        "# в послених версиях языка появилась возможность использовать f-строки для вывода имени переменной и ее значения\n",
        "print('\\nкак делали раньше (или как делается в с++)')\n",
        "print(f'f_string = {f_string}')\n",
        "print('f_string = {}'.format(f_string))\n",
        "\n",
        "print('\\nкак можно делать в python 3.9 и выше')\n",
        "print(f'{f_string = }') \n"
      ]
    },
    {
      "cell_type": "markdown",
      "metadata": {
        "id": "EVW_XJ-v4sqw"
      },
      "source": [
        "**Списки**"
      ]
    },
    {
      "cell_type": "code",
      "execution_count": null,
      "metadata": {
        "id": "GF5TpHWD4sqx",
        "outputId": "4238d13f-e214-4f00-98c2-75d829279890"
      },
      "outputs": [
        {
          "name": "stdout",
          "output_type": "stream",
          "text": [
            "[]\n",
            "[1, 2, 3, 4]\n"
          ]
        }
      ],
      "source": [
        "a_zero_lst = list()\n",
        "a_lst = [1,2,3,4]\n",
        "print(f'{a_zero_lst}\\n{a_lst}')\n"
      ]
    },
    {
      "cell_type": "code",
      "execution_count": null,
      "metadata": {
        "id": "BT1273ap4sqy",
        "outputId": "80c509d5-a7ff-4f86-feaf-da5eec97d916"
      },
      "outputs": [
        {
          "data": {
            "text/plain": [
              "[1, 2, 3, [4, 5, 6], [7, 8, 9]]"
            ]
          },
          "execution_count": 33,
          "metadata": {},
          "output_type": "execute_result"
        }
      ],
      "source": [
        "a = [1,2,3]\n",
        "b = [[4,5,6],[7,8,9]]\n",
        "a + b"
      ]
    },
    {
      "cell_type": "markdown",
      "metadata": {
        "id": "usBqnNfq4sqz"
      },
      "source": [
        "Когда вы пишите для контейнеров и сложных объектов b = a, на самом деле это b = &a.\n",
        "Т.е. получается псевдоним для ссылки на ту же область памяти.\n",
        "Для \"обычных\" типов (не контейнеров), \"=\" работает как обычное присвоение."
      ]
    },
    {
      "cell_type": "code",
      "execution_count": null,
      "metadata": {
        "id": "V0HX_Fp74sq0",
        "outputId": "057f3373-b44c-49c5-87c9-802c3c2ccbac"
      },
      "outputs": [
        {
          "data": {
            "text/plain": [
              "[[[4, 5, 6], [7, 8, 9]], 2, 3]"
            ]
          },
          "execution_count": 34,
          "metadata": {},
          "output_type": "execute_result"
        }
      ],
      "source": [
        "a[0] = b\n",
        "a"
      ]
    },
    {
      "cell_type": "code",
      "execution_count": null,
      "metadata": {
        "id": "tC5ddroq4sq1",
        "outputId": "0aaa3116-8376-46ac-946b-399c459fed38"
      },
      "outputs": [
        {
          "data": {
            "text/plain": [
              "[[['ha-ha'], [7, 8, 9]], 2, 3]"
            ]
          },
          "execution_count": 35,
          "metadata": {},
          "output_type": "execute_result"
        }
      ],
      "source": [
        "b[0] = ['ha-ha']\n",
        "a"
      ]
    },
    {
      "cell_type": "markdown",
      "metadata": {
        "id": "LcXfqHL54sq2"
      },
      "source": [
        "Для \"правильного\" копирования объектов нужно использовать встроенный метод .copy()\n",
        "Его также следует определить для кастомных классов."
      ]
    },
    {
      "cell_type": "code",
      "execution_count": null,
      "metadata": {
        "id": "pPbsLYQS4sq2",
        "outputId": "287c1532-e752-404a-fa41-70dc4e0f5323"
      },
      "outputs": [
        {
          "data": {
            "text/plain": [
              "[['copy'], [7, 8, 9]]"
            ]
          },
          "execution_count": 36,
          "metadata": {},
          "output_type": "execute_result"
        }
      ],
      "source": [
        "c = ['copy']\n",
        "b[0] = c.copy()\n",
        "c[0] = ['troble', 'times']\n",
        "b"
      ]
    },
    {
      "cell_type": "code",
      "execution_count": null,
      "metadata": {
        "id": "jDlqtRWr4sq3",
        "outputId": "a5d7ee21-32a7-4b70-fca5-571ae31ec351"
      },
      "outputs": [
        {
          "name": "stdout",
          "output_type": "stream",
          "text": [
            "[[[1], [2], [3]], [[4], [5], [6]]]\n",
            "[[[7, 8, 9], [2], [3]], [[4], [5], [6]]]\n"
          ]
        }
      ],
      "source": [
        "a = [[[1],[2],[3]], [[4], [5], [6]]]\n",
        "b = a.copy()\n",
        "print(a)\n",
        "b[0][0] = [7,8,9]\n",
        "print(a)"
      ]
    },
    {
      "cell_type": "markdown",
      "metadata": {
        "id": "yABn27rI4sq4"
      },
      "source": [
        ".copy() делает копию только первого уровня объектов. \n",
        "Если требуется полное рекурсивное копирование, то используется функция deepcopy() из библиотеки copy"
      ]
    },
    {
      "cell_type": "code",
      "execution_count": null,
      "metadata": {
        "id": "26ZP0gD24sq5"
      },
      "outputs": [],
      "source": [
        "from copy import deepcopy"
      ]
    },
    {
      "cell_type": "code",
      "execution_count": null,
      "metadata": {
        "id": "07K1kZ3V4sq5",
        "outputId": "8200d9fe-87dd-4f54-ece5-a0f6e3b5b858"
      },
      "outputs": [
        {
          "name": "stdout",
          "output_type": "stream",
          "text": [
            "[[[1], [2], [3]], [[4], [5], [6]]]\n",
            "[[[1], [2], [3]], [[4], [5], [6]]]\n"
          ]
        }
      ],
      "source": [
        "a = [[[1],[2],[3]], [[4], [5], [6]]]\n",
        "b = deepcopy(a)\n",
        "print(a)\n",
        "b[0][0] = [7,8,9]\n",
        "print(a)"
      ]
    },
    {
      "cell_type": "markdown",
      "metadata": {
        "id": "sN2215th4sq6"
      },
      "source": [
        "Кортежи - неизменяемый контейнер"
      ]
    },
    {
      "cell_type": "code",
      "execution_count": null,
      "metadata": {
        "id": "J9SAulsS4sq7"
      },
      "outputs": [],
      "source": [
        "tuple_a = (1, 2, 3)\n",
        "tuple_b = tuple([4, 5, 6])"
      ]
    },
    {
      "cell_type": "code",
      "execution_count": null,
      "metadata": {
        "id": "4lNnvK2x4sq8",
        "outputId": "2d396807-7ad8-48d0-ebd0-48e9d22d5f8b"
      },
      "outputs": [
        {
          "name": "stdout",
          "output_type": "stream",
          "text": [
            "'tuple' object does not support item assignment\n"
          ]
        }
      ],
      "source": [
        "# попробуем изменить элемент кортежа\n",
        "try:\n",
        "    tuple_a[0] = 10\n",
        "except TypeError as terr:\n",
        "    print(terr)"
      ]
    },
    {
      "cell_type": "code",
      "execution_count": null,
      "metadata": {
        "id": "SHsa9q8h4sq8",
        "outputId": "db322c05-8b12-4e5a-e536-f24504e777b3"
      },
      "outputs": [
        {
          "name": "stdout",
          "output_type": "stream",
          "text": [
            "Обработчик исключения: \n",
            "Traceback (most recent call last):\n",
            "  File \"/tmp/ipykernel_6746/1301020217.py\", line 5, in <cell line: 4>\n",
            "    tuple_a[0] = 10\n",
            "TypeError: 'tuple' object does not support item assignment\n",
            "\n"
          ]
        }
      ],
      "source": [
        "# подробоные tracebacks\n",
        "import traceback\n",
        "\n",
        "try:\n",
        "    tuple_a[0] = 10\n",
        "except:  # равносильно catch(...) в с++ Но правильнее указывать конкретный тип ошибки. Рекомендуется использовать такой вариант лишь для отладки. \n",
        "    print('Обработчик исключения: ')\n",
        "    print(traceback.format_exc())"
      ]
    },
    {
      "cell_type": "code",
      "execution_count": null,
      "metadata": {
        "id": "9oyhazqb4sq9",
        "outputId": "0c72fbe5-d2ad-4f7e-8924-18a079ab1262"
      },
      "outputs": [
        {
          "name": "stdout",
          "output_type": "stream",
          "text": [
            "((1, 2, 3), (4, 5, 6))\n"
          ]
        }
      ],
      "source": [
        "list_a = [6, 7, 8]\n",
        "list_b = [3, 4, 5]\n",
        "tuple_a = (tuple_a, tuple_b)\n",
        "print(tuple_a)"
      ]
    },
    {
      "cell_type": "code",
      "execution_count": null,
      "metadata": {
        "id": "TS_pAjpJ4sq9",
        "outputId": "1b95f8a5-17d0-4054-bbd6-919b205dd3e6"
      },
      "outputs": [
        {
          "name": "stdout",
          "output_type": "stream",
          "text": [
            "((1, 2, 3), (4, 5, 6))\n",
            "((1, 2, 3), (4, 5, 6))\n"
          ]
        }
      ],
      "source": [
        "# попробуем провернуть тот же фокус с сылками, что делали с вложенными списками\n",
        "list_a[0] = 111\n",
        "print(tuple_a)\n",
        "\n",
        "list_a = [111, 111, 111]\n",
        "print(tuple_a)"
      ]
    },
    {
      "cell_type": "code",
      "execution_count": 3,
      "metadata": {
        "colab": {
          "base_uri": "https://localhost:8080/"
        },
        "id": "DRQcZhSP40S6",
        "outputId": "593f6da9-b31b-46be-9341-056428e5aa3a"
      },
      "outputs": [
        {
          "name": "stdout",
          "output_type": "stream",
          "text": [
            "\n",
            "Контейнер типа <class 'list'>:\n",
            "<class 'str'>\n",
            "<class 'float'>\n",
            "<class 'list'>\n",
            "<class 'int'>\n",
            "\n",
            "Контейнер типа <class 'set'>:\n",
            "<class 'str'>\n",
            "<class 'int'>\n",
            "<class 'float'>\n",
            "<class 'tuple'>\n",
            "\n",
            "Контейнер типа <class 'tuple'>:\n",
            "<class 'str'>\n",
            "<class 'float'>\n",
            "<class 'list'>\n",
            "<class 'int'>\n"
          ]
        }
      ],
      "source": [
        "# Обратите внимание, что все основные контейнеры в python, типа [],(),{} - гетерогенные, т.е. могут содержать разные типы \n",
        "# тогда как в c++ гетерогенный только tuple\n",
        "a = ['string', 1.2, [1,2,3], 5]\n",
        "b = {'string', 1.2, (1,2,3), 5}\n",
        "c = ('string', 1.2, [1,2,3], 5)\n",
        "abc_list = [a, b, c]\n",
        "\n",
        "for conteiner in abc_list:\n",
        "    print(f'\\nКонтейнер типа {type(conteiner)}:')\n",
        "    for el in conteiner:\n",
        "        print(type(el))"
      ]
    },
    {
      "cell_type": "markdown",
      "metadata": {
        "id": "6M_voty44sq-"
      },
      "source": [
        "Словари"
      ]
    },
    {
      "cell_type": "code",
      "execution_count": null,
      "metadata": {
        "id": "flH52OQk4sq_",
        "outputId": "17a8b9c1-878c-444b-daf6-aceff696c4fe"
      },
      "outputs": [
        {
          "name": "stdout",
          "output_type": "stream",
          "text": [
            "1\n"
          ]
        }
      ],
      "source": [
        "dict_example = {'one': 1, \n",
        "                'two': 2,\n",
        "                'three': 3}\n",
        "print(dict_example['one'])"
      ]
    },
    {
      "cell_type": "code",
      "execution_count": null,
      "metadata": {
        "id": "ke6F8kA-4sq_",
        "outputId": "01becbe6-6b24-4a6d-a766-1fd129e4c2b7"
      },
      "outputs": [
        {
          "name": "stdout",
          "output_type": "stream",
          "text": [
            "Bingo!\n"
          ]
        }
      ],
      "source": [
        "# Проверка на наличие элемента\n",
        "if 'one' in dict_example.keys():\n",
        "    print('Bingo!')"
      ]
    },
    {
      "cell_type": "markdown",
      "metadata": {
        "id": "y_mXhg5_4srA"
      },
      "source": [
        "В качестве ключа в словаре может быть любой хешиуемый объект.\n",
        "Отсюда очевидно, что словарь - несортированная коллекция с быстрым доступом к значениям."
      ]
    },
    {
      "cell_type": "code",
      "execution_count": null,
      "metadata": {
        "id": "y6sICnJw4srB",
        "outputId": "8a8586f0-6afc-4772-efc0-a04ff3839e7d"
      },
      "outputs": [
        {
          "name": "stdout",
          "output_type": "stream",
          "text": [
            "{1: 4, 2: 5, 3: 6}\n"
          ]
        }
      ],
      "source": [
        "# альтернативный способ задания словарей\n",
        "# функция zip формирует кортежи из элементов-пар первого аргемента и второго\n",
        "d = dict(zip([1,2,3], [4,5,6]))\n",
        "print(d)"
      ]
    },
    {
      "cell_type": "markdown",
      "metadata": {
        "id": "C3ldU78M4srB"
      },
      "source": [
        "Множества - неупорядоченный контейнер, нельзя обращаться к конкретным элементам. Все элементы встречаются только 1 раз"
      ]
    },
    {
      "cell_type": "code",
      "execution_count": null,
      "metadata": {
        "id": "F7GekTL_4srC",
        "outputId": "0e8ca722-a360-45ea-cb2f-9580c25ebc1a"
      },
      "outputs": [
        {
          "name": "stdout",
          "output_type": "stream",
          "text": [
            "{1, 2, 3, 4}\n",
            "{'l', 'o', 'H', 'e'}\n"
          ]
        }
      ],
      "source": [
        "set_a = {1, 2, 3, 3, 3, 3, 4}\n",
        "print(set_a)\n",
        "\n",
        "set_b = {'H', 'e', 'l', 'l', 'o'}\n",
        "print(set_b)"
      ]
    },
    {
      "cell_type": "code",
      "execution_count": null,
      "metadata": {
        "id": "u3IrAws44srC",
        "outputId": "de9d2ed7-25f1-45fe-b798-b61bec1902a6"
      },
      "outputs": [
        {
          "data": {
            "text/plain": [
              "{1, 2, 3, 4, 'H', 'e', 'l', 'o'}"
            ]
          },
          "execution_count": 19,
          "metadata": {},
          "output_type": "execute_result"
        }
      ],
      "source": [
        "set_a.union(set_b)"
      ]
    },
    {
      "cell_type": "markdown",
      "metadata": {
        "id": "pzYRh8Qv4srD"
      },
      "source": [
        "Циклы"
      ]
    },
    {
      "cell_type": "code",
      "execution_count": null,
      "metadata": {
        "id": "B4QJxoUU4srD",
        "outputId": "37523367-efe4-4509-ca39-d981c9881bef"
      },
      "outputs": [
        {
          "name": "stdout",
          "output_type": "stream",
          "text": [
            "0\n",
            "1\n",
            "2\n",
            "3\n",
            "4\n"
          ]
        }
      ],
      "source": [
        "for i in range(5):\n",
        "    print(i)"
      ]
    },
    {
      "cell_type": "code",
      "execution_count": null,
      "metadata": {
        "id": "7QEnrEpL4srE",
        "outputId": "dbf38868-1185-4d67-aec0-14698e07f643"
      },
      "outputs": [
        {
          "name": "stdout",
          "output_type": "stream",
          "text": [
            "a\n",
            "b\n",
            "c\n"
          ]
        }
      ],
      "source": [
        "a = ['a', 'b', 'c']\n",
        "for sym in a:\n",
        "    print(sym)"
      ]
    },
    {
      "cell_type": "code",
      "execution_count": null,
      "metadata": {
        "id": "6W60dAHu4srF",
        "outputId": "48dece5e-008c-4d45-bec1-6efdf9feffcc"
      },
      "outputs": [
        {
          "name": "stdout",
          "output_type": "stream",
          "text": [
            "0\n",
            "1\n",
            "2\n",
            "3\n",
            "4\n"
          ]
        }
      ],
      "source": [
        "i = 0\n",
        "while i < 5:\n",
        "    print(i)\n",
        "    i += 1"
      ]
    },
    {
      "cell_type": "markdown",
      "metadata": {
        "id": "A2oRt_kl4srG"
      },
      "source": [
        "Массивы"
      ]
    },
    {
      "cell_type": "code",
      "execution_count": null,
      "metadata": {
        "id": "4vzghs1h4srG",
        "outputId": "d7198efb-884e-438d-8082-de0b33842d9a"
      },
      "outputs": [
        {
          "name": "stdout",
          "output_type": "stream",
          "text": [
            "[1 2 3 4]\n"
          ]
        }
      ],
      "source": [
        "from numpy import array\n",
        "\n",
        "array_a = array([1,2,3,4])\n",
        "print(array_a)"
      ]
    },
    {
      "cell_type": "markdown",
      "metadata": {
        "id": "VVL0951s4srG"
      },
      "source": [
        "Генераторы"
      ]
    },
    {
      "cell_type": "code",
      "execution_count": null,
      "metadata": {
        "id": "AXAFZrES4srH",
        "outputId": "66f5e4f0-25cb-43d3-eef8-2e212eedded8"
      },
      "outputs": [
        {
          "name": "stdout",
          "output_type": "stream",
          "text": [
            "[0, 1, 2, 3, 4]\n"
          ]
        }
      ],
      "source": [
        "# способ зполнить контейнер\n",
        "a = []\n",
        "for i in range(5):\n",
        "    a.append(i)\n",
        "print(a)\n"
      ]
    },
    {
      "cell_type": "code",
      "execution_count": null,
      "metadata": {
        "id": "pRGzHVWE4srH",
        "outputId": "9e31d0a1-7e0a-4823-b82c-5a14b30ca6cb"
      },
      "outputs": [
        {
          "name": "stdout",
          "output_type": "stream",
          "text": [
            "[0, 1, 2, 3, 4]\n"
          ]
        }
      ],
      "source": [
        "#способ задания с помощью генератора\n",
        "a = [ i for i in range(5)]\n",
        "print(a)"
      ]
    },
    {
      "cell_type": "markdown",
      "metadata": {
        "id": "IKtuMZqz4srI"
      },
      "source": [
        "*Генераторы работают **БЫСТРЕЕ** циклов!*"
      ]
    },
    {
      "cell_type": "code",
      "execution_count": null,
      "metadata": {
        "id": "AGcdp_I14srI"
      },
      "outputs": [],
      "source": [
        "# попробуем что-то посложнее\n",
        "from datetime import datetime\n",
        "from random import randint"
      ]
    },
    {
      "cell_type": "code",
      "execution_count": null,
      "metadata": {
        "id": "ahZbQYrd4srJ",
        "outputId": "d07897ac-566b-4216-f895-6331601f8758"
      },
      "outputs": [
        {
          "name": "stdout",
          "output_type": "stream",
          "text": [
            "[215795, 215803, 215804, 215805, 215805, 215806]\n"
          ]
        }
      ],
      "source": [
        "# количетсво элементов в списке задается случайнм образом и будет отличаться при каждом выполнении кода\n",
        "microsec_lst = [datetime.now().microsecond for i in range(randint(2, 10))]\n",
        "print(microsec_lst)"
      ]
    },
    {
      "cell_type": "markdown",
      "metadata": {
        "id": "2bC38qAu4srJ"
      },
      "source": [
        "Функции"
      ]
    },
    {
      "cell_type": "code",
      "execution_count": null,
      "metadata": {
        "id": "Fp3bnIZD4srK"
      },
      "outputs": [],
      "source": [
        "def test_func(text):\n",
        "    print(text)"
      ]
    },
    {
      "cell_type": "code",
      "execution_count": null,
      "metadata": {
        "id": "YMzgrC2N4srL",
        "outputId": "b33a5154-29be-4cdf-b299-f04f6bc9a92a"
      },
      "outputs": [
        {
          "name": "stdout",
          "output_type": "stream",
          "text": [
            "1\n",
            "[1, 3, 4]\n",
            "asgdjlkajskldgj\n"
          ]
        }
      ],
      "source": [
        "test_func(1)\n",
        "test_func([1, 3, 4])\n",
        "test_func('asgdjlkajskldgj')"
      ]
    },
    {
      "cell_type": "code",
      "execution_count": null,
      "metadata": {
        "id": "k_DHTU-c4srL"
      },
      "outputs": [],
      "source": [
        "# Правила \"хорошего тона\" оформления функций\n",
        "def pritty_func(text: str) -> None:\n",
        "    print(text)"
      ]
    },
    {
      "cell_type": "markdown",
      "metadata": {
        "id": "b59jwnLe4srM"
      },
      "source": [
        "В python НЕТ void функций! Если явно не задан return, то функция возвращает None в случае успешного выполнения"
      ]
    },
    {
      "cell_type": "code",
      "execution_count": null,
      "metadata": {
        "id": "PYdcN_JR4srM",
        "outputId": "6b674676-bd3b-4b42-89b4-72cc07c9c0d7"
      },
      "outputs": [
        {
          "name": "stdout",
          "output_type": "stream",
          "text": [
            "Hi\n",
            "None\n"
          ]
        }
      ],
      "source": [
        "def non_void_func():\n",
        "    print('Hi')\n",
        "\n",
        "res = non_void_func()\n",
        "print(res)"
      ]
    },
    {
      "cell_type": "code",
      "execution_count": null,
      "metadata": {
        "id": "YyV6ONNs4srN",
        "outputId": "51167a5a-0cb0-49e1-bb18-d6ada17c47fe"
      },
      "outputs": [
        {
          "name": "stdout",
          "output_type": "stream",
          "text": [
            "4 27 256\n",
            "<class 'tuple'>\n"
          ]
        }
      ],
      "source": [
        "# возвращение нескольких значений из функции\n",
        "def several_return_func(a, b, c):\n",
        "    return a**2, b**3, c**4 # ** - возведение в степень\n",
        "\n",
        "r1, r2, _ = several_return_func(2, 3, c = 4) # если возвращаемое значение не нужно, принято в качетсве имени переменной использовать \"_\"\n",
        "print(r1, r2, _)\n",
        "# фунция вернула кортеж, полсе чего декомпозировала по переменным r1, r2, _\n",
        "# посмотрим возвращаемый тип\n",
        "print(type(several_return_func(1,2,3)))\n",
        "\n"
      ]
    },
    {
      "cell_type": "markdown",
      "metadata": {
        "id": "eKsoAycd4srO"
      },
      "source": [
        "**Немного прикладного функционала для настроения**"
      ]
    },
    {
      "cell_type": "markdown",
      "metadata": {
        "id": "oyqm6Z5k4srO"
      },
      "source": [
        "Построение графиков"
      ]
    },
    {
      "cell_type": "code",
      "execution_count": null,
      "metadata": {
        "id": "QDLnKY4_4srP"
      },
      "outputs": [],
      "source": [
        "# самая простая, но самая близкая к матлабу библиотека для графиков - matplotlib.pyplot (модуль pyplot из библиотеки matplotlib)\n",
        "import matplotlib.pyplot as plt\n",
        "from random import random"
      ]
    },
    {
      "cell_type": "code",
      "execution_count": null,
      "metadata": {
        "id": "vnMTVb8R4srP",
        "outputId": "e1199c4a-fc7c-4880-cb94-8fc0bc0a09f3"
      },
      "outputs": [
        {
          "data": {
            "image/png": "[encoded data removed]",
            "text/plain": [
              "<Figure size 432x288 with 1 Axes>"
            ]
          },
          "metadata": {
            "needs_background": "light"
          },
          "output_type": "display_data"
        }
      ],
      "source": [
        "x = [random() for i in range(50)]\n",
        "y = [random() for i in range(50)]\n",
        "plt.plot(x,y, 'og')\n",
        "plt.grid()"
      ]
    },
    {
      "cell_type": "code",
      "execution_count": null,
      "metadata": {
        "id": "4L7R_DN44srQ",
        "outputId": "21a1dccb-06c6-49ab-cc2a-036639d91955"
      },
      "outputs": [
        {
          "data": {
            "image/png": "[encoded data removed]",
            "text/plain": [
              "<Figure size 432x288 with 2 Axes>"
            ]
          },
          "metadata": {
            "needs_background": "light"
          },
          "output_type": "display_data"
        }
      ],
      "source": [
        "fig, (ax1, ax2) = plt.subplots(1, 2)\n",
        "ax1.plot(x, y, '*r')\n",
        "ax1.grid()\n",
        "\n",
        "ax2.plot(x, y, 'b')\n",
        "ax2.grid()\n",
        "\n",
        "# fig.show() # при написании gui нужна отдельная команда ддя показа"
      ]
    },
    {
      "cell_type": "markdown",
      "metadata": {
        "id": "umVJgVf24srQ"
      },
      "source": [
        "3D графики"
      ]
    },
    {
      "cell_type": "code",
      "execution_count": null,
      "metadata": {
        "id": "yN50QnGs4srR"
      },
      "outputs": [],
      "source": [
        "import numpy as np\n",
        "import matplotlib.pyplot as plt"
      ]
    },
    {
      "cell_type": "code",
      "execution_count": null,
      "metadata": {
        "id": "_quF2cLB4srR",
        "outputId": "6141d032-539c-4d99-a341-b4ceeaffa61b"
      },
      "outputs": [
        {
          "data": {
            "text/plain": [
              "[<mpl_toolkits.mplot3d.art3d.Line3D at 0x7faf7ea8bd00>]"
            ]
          },
          "execution_count": 24,
          "metadata": {},
          "output_type": "execute_result"
        },
        {
          "data": {
            "image/png": "[encoded data removed]",
            "text/plain": [
              "<Figure size 432x288 with 1 Axes>"
            ]
          },
          "metadata": {
            "needs_background": "light"
          },
          "output_type": "display_data"
        }
      ],
      "source": [
        "fig = plt.figure()\n",
        "ax = plt.axes(projection='3d')\n",
        "zline = np.linspace(0, 15, 1000)\n",
        "xline = np.sin(zline)\n",
        "yline = np.cos(zline)\n",
        "ax.plot3D(xline, yline, zline, 'g')"
      ]
    },
    {
      "cell_type": "markdown",
      "metadata": {
        "id": "yoZIpVNN4srS"
      },
      "source": [
        "Работа с файлами"
      ]
    },
    {
      "cell_type": "code",
      "execution_count": null,
      "metadata": {
        "id": "-iEbczXg4srS",
        "outputId": "a6f3c9e3-367a-4e97-ac6d-a7f2079a852d"
      },
      "outputs": [
        {
          "name": "stdout",
          "output_type": "stream",
          "text": [
            "Первое чтение файла: \n",
            "['1st text file!\\n', 'Second strging\\n', 'Third string\\n']\n",
            "\n",
            "Второе чтение файла: \n",
            "1st text file!\n",
            "\n",
            "Second strging\n",
            "\n",
            "Third string\n",
            "\n",
            "Lets try again\n",
            "\n"
          ]
        }
      ],
      "source": [
        "# w+ - атрибут открытия для записи (саоздает файл, если его нет)\n",
        "with open('test.txt', 'w+') as input_file: \n",
        "    input_file.write('1st text file!\\n')\n",
        "    input_file.writelines(['Second strging\\n', 'Third string\\n'])\n",
        "\n",
        "print('Первое чтение файла: ')\n",
        "with open('test.txt', 'r') as output_file:\n",
        "    content = output_file.readlines() # возвращает list\n",
        "    print(content)\n",
        "\n",
        "# a+ - атибут открытия на дозапись, создает файл, если его нет\n",
        "with open('test.txt', 'a+') as input_file: \n",
        "    input_file.write('Lets try again')\n",
        "\n",
        "print('\\nВторое чтение файла: ')\n",
        "with open('test.txt', 'r') as output_file:\n",
        "    for line in output_file.readlines():\n",
        "        print(line)\n"
      ]
    },
    {
      "cell_type": "code",
      "execution_count": null,
      "metadata": {
        "id": "skGGTrkH4srT"
      },
      "outputs": [],
      "source": [
        "import pandas as pd"
      ]
    },
    {
      "cell_type": "code",
      "execution_count": null,
      "metadata": {
        "id": "hYk6PDaH4srT",
        "outputId": "1d1c6f88-1cb4-4475-9c9e-633838d76618"
      },
      "outputs": [
        {
          "data": {
            "text/html": [
              "<div>\n",
              "<style scoped>\n",
              "    .dataframe tbody tr th:only-of-type {\n",
              "        vertical-align: middle;\n",
              "    }\n",
              "\n",
              "    .dataframe tbody tr th {\n",
              "        vertical-align: top;\n",
              "    }\n",
              "\n",
              "    .dataframe thead th {\n",
              "        text-align: right;\n",
              "    }\n",
              "</style>\n",
              "<table border=\"1\" class=\"dataframe\">\n",
              "  <thead>\n",
              "    <tr style=\"text-align: right;\">\n",
              "      <th></th>\n",
              "      <th>Unnamed: 0</th>\n",
              "      <th>Экспортированная таблица</th>\n",
              "      <th>Unnamed: 2</th>\n",
              "      <th>Unnamed: 3</th>\n",
              "      <th>Unnamed: 4</th>\n",
              "      <th>Unnamed: 5</th>\n",
              "      <th>Unnamed: 6</th>\n",
              "      <th>Unnamed: 7</th>\n",
              "      <th>Unnamed: 8</th>\n",
              "      <th>Unnamed: 9</th>\n",
              "      <th>...</th>\n",
              "      <th>Unnamed: 14</th>\n",
              "      <th>Unnamed: 15</th>\n",
              "      <th>Unnamed: 16</th>\n",
              "      <th>Unnamed: 17</th>\n",
              "      <th>Unnamed: 18</th>\n",
              "      <th>Unnamed: 19</th>\n",
              "      <th>Unnamed: 20</th>\n",
              "      <th>Unnamed: 21</th>\n",
              "      <th>Unnamed: 22</th>\n",
              "      <th>Unnamed: 23</th>\n",
              "    </tr>\n",
              "  </thead>\n",
              "  <tbody>\n",
              "    <tr>\n",
              "      <th>0</th>\n",
              "      <td>NaN</td>\n",
              "      <td>Журнал группы ИВТ-31 (2019 г., бакалавры) по д...</td>\n",
              "      <td>NaN</td>\n",
              "      <td>NaN</td>\n",
              "      <td>NaN</td>\n",
              "      <td>NaN</td>\n",
              "      <td>NaN</td>\n",
              "      <td>NaN</td>\n",
              "      <td>NaN</td>\n",
              "      <td>NaN</td>\n",
              "      <td>...</td>\n",
              "      <td>NaN</td>\n",
              "      <td>NaN</td>\n",
              "      <td>NaN</td>\n",
              "      <td>NaN</td>\n",
              "      <td>NaN</td>\n",
              "      <td>NaN</td>\n",
              "      <td>NaN</td>\n",
              "      <td>NaN</td>\n",
              "      <td>NaN</td>\n",
              "      <td>NaN</td>\n",
              "    </tr>\n",
              "    <tr>\n",
              "      <th>1</th>\n",
              "      <td>NaN</td>\n",
              "      <td>Семестр</td>\n",
              "      <td>2021 - 2022 год, 1 семестр</td>\n",
              "      <td>NaN</td>\n",
              "      <td>NaN</td>\n",
              "      <td>NaN</td>\n",
              "      <td>NaN</td>\n",
              "      <td>NaN</td>\n",
              "      <td>NaN</td>\n",
              "      <td>NaN</td>\n",
              "      <td>...</td>\n",
              "      <td>NaN</td>\n",
              "      <td>NaN</td>\n",
              "      <td>NaN</td>\n",
              "      <td>NaN</td>\n",
              "      <td>NaN</td>\n",
              "      <td>NaN</td>\n",
              "      <td>NaN</td>\n",
              "      <td>Общая сумма баллов</td>\n",
              "      <td>Текущая сумма баллов</td>\n",
              "      <td>Текущая оценка</td>\n",
              "    </tr>\n",
              "    <tr>\n",
              "      <th>2</th>\n",
              "      <td>NaN</td>\n",
              "      <td>Неделя:</td>\n",
              "      <td>2</td>\n",
              "      <td>NaN</td>\n",
              "      <td>5</td>\n",
              "      <td>6</td>\n",
              "      <td>7</td>\n",
              "      <td>8</td>\n",
              "      <td>9</td>\n",
              "      <td>10</td>\n",
              "      <td>...</td>\n",
              "      <td>NaN</td>\n",
              "      <td>NaN</td>\n",
              "      <td>NaN</td>\n",
              "      <td>NaN</td>\n",
              "      <td>NaN</td>\n",
              "      <td>17</td>\n",
              "      <td>Итог</td>\n",
              "      <td>NaN</td>\n",
              "      <td>NaN</td>\n",
              "      <td>NaN</td>\n",
              "    </tr>\n",
              "    <tr>\n",
              "      <th>3</th>\n",
              "      <td>NaN</td>\n",
              "      <td>Название:</td>\n",
              "      <td>Логические операции, кодирование</td>\n",
              "      <td>Протокол обмена</td>\n",
              "      <td>NaN</td>\n",
              "      <td>SPI I2C</td>\n",
              "      <td>UART RS</td>\n",
              "      <td>NaN</td>\n",
              "      <td>USB - МПК</td>\n",
              "      <td>Лабораторная работа 1</td>\n",
              "      <td>...</td>\n",
              "      <td>NaN</td>\n",
              "      <td>NaN</td>\n",
              "      <td>NaN</td>\n",
              "      <td>NaN</td>\n",
              "      <td>NaN</td>\n",
              "      <td>Проектирование вычислительной системы</td>\n",
              "      <td>NaN</td>\n",
              "      <td>NaN</td>\n",
              "      <td>NaN</td>\n",
              "      <td>NaN</td>\n",
              "    </tr>\n",
              "    <tr>\n",
              "      <th>4</th>\n",
              "      <td>NaN</td>\n",
              "      <td>Тип КМ:</td>\n",
              "      <td>СР.1</td>\n",
              "      <td>Вариант</td>\n",
              "      <td>КЗ.1</td>\n",
              "      <td>СР.2</td>\n",
              "      <td>СР.3</td>\n",
              "      <td>А/П.1</td>\n",
              "      <td>СР.4</td>\n",
              "      <td>ЛР.1</td>\n",
              "      <td>...</td>\n",
              "      <td>Вариант ИДЗ</td>\n",
              "      <td>Первый этап</td>\n",
              "      <td>Второй Этап</td>\n",
              "      <td>Третий этап</td>\n",
              "      <td>Четвертый этап</td>\n",
              "      <td>КМ.1</td>\n",
              "      <td>Итог</td>\n",
              "      <td>NaN</td>\n",
              "      <td>NaN</td>\n",
              "      <td>NaN</td>\n",
              "    </tr>\n",
              "    <tr>\n",
              "      <th>5</th>\n",
              "      <td>н п/п</td>\n",
              "      <td>Балл:</td>\n",
              "      <td>4</td>\n",
              "      <td>NaN</td>\n",
              "      <td>5</td>\n",
              "      <td>4</td>\n",
              "      <td>4</td>\n",
              "      <td>2</td>\n",
              "      <td>4</td>\n",
              "      <td>10</td>\n",
              "      <td>...</td>\n",
              "      <td>NaN</td>\n",
              "      <td>2</td>\n",
              "      <td>3</td>\n",
              "      <td>7</td>\n",
              "      <td>6</td>\n",
              "      <td>18</td>\n",
              "      <td>21</td>\n",
              "      <td>100</td>\n",
              "      <td>0</td>\n",
              "      <td>NaN</td>\n",
              "    </tr>\n",
              "    <tr>\n",
              "      <th>6</th>\n",
              "      <td>1</td>\n",
              "      <td>Аксенов Иван Александрович</td>\n",
              "      <td>2</td>\n",
              "      <td>5</td>\n",
              "      <td>4</td>\n",
              "      <td>4</td>\n",
              "      <td>4</td>\n",
              "      <td>NaN</td>\n",
              "      <td>4</td>\n",
              "      <td>7</td>\n",
              "      <td>...</td>\n",
              "      <td>2.1</td>\n",
              "      <td>2</td>\n",
              "      <td>3</td>\n",
              "      <td>5</td>\n",
              "      <td>2</td>\n",
              "      <td>12</td>\n",
              "      <td>NaN</td>\n",
              "      <td>0</td>\n",
              "      <td>0</td>\n",
              "      <td>0</td>\n",
              "    </tr>\n",
              "    <tr>\n",
              "      <th>7</th>\n",
              "      <td>2</td>\n",
              "      <td>Бантуров Николай Сергеевич</td>\n",
              "      <td>4</td>\n",
              "      <td>4</td>\n",
              "      <td>5</td>\n",
              "      <td>1</td>\n",
              "      <td>3</td>\n",
              "      <td>NaN</td>\n",
              "      <td>3</td>\n",
              "      <td>10</td>\n",
              "      <td>...</td>\n",
              "      <td>1.3</td>\n",
              "      <td>2</td>\n",
              "      <td>2</td>\n",
              "      <td>1</td>\n",
              "      <td>2</td>\n",
              "      <td>7</td>\n",
              "      <td>NaN</td>\n",
              "      <td>0</td>\n",
              "      <td>0</td>\n",
              "      <td>0</td>\n",
              "    </tr>\n",
              "    <tr>\n",
              "      <th>8</th>\n",
              "      <td>3</td>\n",
              "      <td>Винокурова Елена Михайловна</td>\n",
              "      <td>3</td>\n",
              "      <td>5</td>\n",
              "      <td>4</td>\n",
              "      <td>2</td>\n",
              "      <td>3</td>\n",
              "      <td>NaN</td>\n",
              "      <td>3.5</td>\n",
              "      <td>1</td>\n",
              "      <td>...</td>\n",
              "      <td>8.2</td>\n",
              "      <td>2</td>\n",
              "      <td>3</td>\n",
              "      <td>4</td>\n",
              "      <td>4</td>\n",
              "      <td>13</td>\n",
              "      <td>NaN</td>\n",
              "      <td>0</td>\n",
              "      <td>0</td>\n",
              "      <td>0</td>\n",
              "    </tr>\n",
              "    <tr>\n",
              "      <th>9</th>\n",
              "      <td>4</td>\n",
              "      <td>Громов Артем Алексеевич</td>\n",
              "      <td>4</td>\n",
              "      <td>7</td>\n",
              "      <td>5</td>\n",
              "      <td>2021-05-01 00:00:00</td>\n",
              "      <td>3</td>\n",
              "      <td>NaN</td>\n",
              "      <td>4</td>\n",
              "      <td>1</td>\n",
              "      <td>...</td>\n",
              "      <td>7.4</td>\n",
              "      <td>NaN</td>\n",
              "      <td>NaN</td>\n",
              "      <td>NaN</td>\n",
              "      <td>NaN</td>\n",
              "      <td>0</td>\n",
              "      <td>NaN</td>\n",
              "      <td>0</td>\n",
              "      <td>0</td>\n",
              "      <td>0</td>\n",
              "    </tr>\n",
              "    <tr>\n",
              "      <th>10</th>\n",
              "      <td>5</td>\n",
              "      <td>Дьяков Алексей Юрьевич</td>\n",
              "      <td>4</td>\n",
              "      <td>NaN</td>\n",
              "      <td>5</td>\n",
              "      <td>3</td>\n",
              "      <td>2</td>\n",
              "      <td>NaN</td>\n",
              "      <td>3.5</td>\n",
              "      <td>8</td>\n",
              "      <td>...</td>\n",
              "      <td>8.1</td>\n",
              "      <td>2</td>\n",
              "      <td>NaN</td>\n",
              "      <td>NaN</td>\n",
              "      <td>NaN</td>\n",
              "      <td>2</td>\n",
              "      <td>NaN</td>\n",
              "      <td>0</td>\n",
              "      <td>0</td>\n",
              "      <td>0</td>\n",
              "    </tr>\n",
              "    <tr>\n",
              "      <th>11</th>\n",
              "      <td>6</td>\n",
              "      <td>Еремеев Данил Юрьевич</td>\n",
              "      <td>1</td>\n",
              "      <td>6</td>\n",
              "      <td>5</td>\n",
              "      <td>1</td>\n",
              "      <td>4</td>\n",
              "      <td>NaN</td>\n",
              "      <td>3</td>\n",
              "      <td>10</td>\n",
              "      <td>...</td>\n",
              "      <td>1.6</td>\n",
              "      <td>2</td>\n",
              "      <td>2</td>\n",
              "      <td>3</td>\n",
              "      <td>5</td>\n",
              "      <td>12</td>\n",
              "      <td>NaN</td>\n",
              "      <td>0</td>\n",
              "      <td>0</td>\n",
              "      <td>0</td>\n",
              "    </tr>\n",
              "    <tr>\n",
              "      <th>12</th>\n",
              "      <td>7</td>\n",
              "      <td>Завалишина Анастасия Андреевна</td>\n",
              "      <td>Не ходит</td>\n",
              "      <td>NaN</td>\n",
              "      <td>NaN</td>\n",
              "      <td>н</td>\n",
              "      <td>н</td>\n",
              "      <td>NaN</td>\n",
              "      <td>н</td>\n",
              "      <td>NaN</td>\n",
              "      <td>...</td>\n",
              "      <td>4.2</td>\n",
              "      <td>NaN</td>\n",
              "      <td>NaN</td>\n",
              "      <td>NaN</td>\n",
              "      <td>NaN</td>\n",
              "      <td>0</td>\n",
              "      <td>NaN</td>\n",
              "      <td>0</td>\n",
              "      <td>0</td>\n",
              "      <td>0</td>\n",
              "    </tr>\n",
              "    <tr>\n",
              "      <th>13</th>\n",
              "      <td>8</td>\n",
              "      <td>Завирюхин Денис Анатольевич</td>\n",
              "      <td>3</td>\n",
              "      <td>4</td>\n",
              "      <td>Макс 4</td>\n",
              "      <td>0.5</td>\n",
              "      <td>4</td>\n",
              "      <td>NaN</td>\n",
              "      <td>н</td>\n",
              "      <td>5</td>\n",
              "      <td>...</td>\n",
              "      <td>5.3</td>\n",
              "      <td>NaN</td>\n",
              "      <td>NaN</td>\n",
              "      <td>NaN</td>\n",
              "      <td>NaN</td>\n",
              "      <td>0</td>\n",
              "      <td>NaN</td>\n",
              "      <td>0</td>\n",
              "      <td>0</td>\n",
              "      <td>0</td>\n",
              "    </tr>\n",
              "    <tr>\n",
              "      <th>14</th>\n",
              "      <td>9</td>\n",
              "      <td>Калинкина Алина Алексеевна</td>\n",
              "      <td>4</td>\n",
              "      <td>3</td>\n",
              "      <td>5</td>\n",
              "      <td>2021-05-03 00:00:00</td>\n",
              "      <td>4</td>\n",
              "      <td>NaN</td>\n",
              "      <td>4</td>\n",
              "      <td>10</td>\n",
              "      <td>...</td>\n",
              "      <td>1.2</td>\n",
              "      <td>2</td>\n",
              "      <td>3</td>\n",
              "      <td>7</td>\n",
              "      <td>6</td>\n",
              "      <td>18</td>\n",
              "      <td>NaN</td>\n",
              "      <td>0</td>\n",
              "      <td>0</td>\n",
              "      <td>0</td>\n",
              "    </tr>\n",
              "    <tr>\n",
              "      <th>15</th>\n",
              "      <td>10</td>\n",
              "      <td>Козин Алексей Александрович</td>\n",
              "      <td>1</td>\n",
              "      <td>7</td>\n",
              "      <td>5</td>\n",
              "      <td>2021-05-03 00:00:00</td>\n",
              "      <td>2</td>\n",
              "      <td>NaN</td>\n",
              "      <td>3.5</td>\n",
              "      <td>8</td>\n",
              "      <td>...</td>\n",
              "      <td>6.6</td>\n",
              "      <td>2</td>\n",
              "      <td>3</td>\n",
              "      <td>5</td>\n",
              "      <td>6</td>\n",
              "      <td>16</td>\n",
              "      <td>NaN</td>\n",
              "      <td>0</td>\n",
              "      <td>0</td>\n",
              "      <td>0</td>\n",
              "    </tr>\n",
              "    <tr>\n",
              "      <th>16</th>\n",
              "      <td>11</td>\n",
              "      <td>Лапицкий Артём Романович</td>\n",
              "      <td>2.5</td>\n",
              "      <td>6</td>\n",
              "      <td>5</td>\n",
              "      <td>0.5</td>\n",
              "      <td>4</td>\n",
              "      <td>NaN</td>\n",
              "      <td>0</td>\n",
              "      <td>1</td>\n",
              "      <td>...</td>\n",
              "      <td>2.5</td>\n",
              "      <td>1</td>\n",
              "      <td>2</td>\n",
              "      <td>NaN</td>\n",
              "      <td>3</td>\n",
              "      <td>6</td>\n",
              "      <td>NaN</td>\n",
              "      <td>0</td>\n",
              "      <td>0</td>\n",
              "      <td>0</td>\n",
              "    </tr>\n",
              "    <tr>\n",
              "      <th>17</th>\n",
              "      <td>12</td>\n",
              "      <td>Логинов Семен Дмитриевич</td>\n",
              "      <td>Не ходит</td>\n",
              "      <td>NaN</td>\n",
              "      <td>NaN</td>\n",
              "      <td>н</td>\n",
              "      <td>н</td>\n",
              "      <td>NaN</td>\n",
              "      <td>н</td>\n",
              "      <td>NaN</td>\n",
              "      <td>...</td>\n",
              "      <td>7.5</td>\n",
              "      <td>NaN</td>\n",
              "      <td>NaN</td>\n",
              "      <td>NaN</td>\n",
              "      <td>NaN</td>\n",
              "      <td>0</td>\n",
              "      <td>NaN</td>\n",
              "      <td>0</td>\n",
              "      <td>0</td>\n",
              "      <td>0</td>\n",
              "    </tr>\n",
              "    <tr>\n",
              "      <th>18</th>\n",
              "      <td>13</td>\n",
              "      <td>Макеенко Роман Михайлович</td>\n",
              "      <td>1</td>\n",
              "      <td>6</td>\n",
              "      <td>4</td>\n",
              "      <td>0.5</td>\n",
              "      <td>2</td>\n",
              "      <td>NaN</td>\n",
              "      <td>3</td>\n",
              "      <td>NaN</td>\n",
              "      <td>...</td>\n",
              "      <td>1.1</td>\n",
              "      <td>1.5</td>\n",
              "      <td>2.5</td>\n",
              "      <td>NaN</td>\n",
              "      <td>NaN</td>\n",
              "      <td>4</td>\n",
              "      <td>NaN</td>\n",
              "      <td>0</td>\n",
              "      <td>0</td>\n",
              "      <td>0</td>\n",
              "    </tr>\n",
              "    <tr>\n",
              "      <th>19</th>\n",
              "      <td>14</td>\n",
              "      <td>Перетятько Артём Константинович</td>\n",
              "      <td>3</td>\n",
              "      <td>4</td>\n",
              "      <td>Макс 4</td>\n",
              "      <td>0.5</td>\n",
              "      <td>4</td>\n",
              "      <td>NaN</td>\n",
              "      <td>3</td>\n",
              "      <td>3</td>\n",
              "      <td>...</td>\n",
              "      <td>5.4</td>\n",
              "      <td>NaN</td>\n",
              "      <td>NaN</td>\n",
              "      <td>NaN</td>\n",
              "      <td>NaN</td>\n",
              "      <td>0</td>\n",
              "      <td>NaN</td>\n",
              "      <td>0</td>\n",
              "      <td>0</td>\n",
              "      <td>0</td>\n",
              "    </tr>\n",
              "    <tr>\n",
              "      <th>20</th>\n",
              "      <td>15</td>\n",
              "      <td>Питомец Арсений Александрович</td>\n",
              "      <td>4</td>\n",
              "      <td>NaN</td>\n",
              "      <td>5</td>\n",
              "      <td>2.5</td>\n",
              "      <td>3</td>\n",
              "      <td>NaN</td>\n",
              "      <td>3.25</td>\n",
              "      <td>10</td>\n",
              "      <td>...</td>\n",
              "      <td>2.7</td>\n",
              "      <td>1.5</td>\n",
              "      <td>3</td>\n",
              "      <td>6</td>\n",
              "      <td>6</td>\n",
              "      <td>16.5</td>\n",
              "      <td>NaN</td>\n",
              "      <td>0</td>\n",
              "      <td>0</td>\n",
              "      <td>0</td>\n",
              "    </tr>\n",
              "    <tr>\n",
              "      <th>21</th>\n",
              "      <td>16</td>\n",
              "      <td>Протасова Екатерина Андреевна</td>\n",
              "      <td>4</td>\n",
              "      <td>7</td>\n",
              "      <td>5</td>\n",
              "      <td>2021-05-03 00:00:00</td>\n",
              "      <td>3</td>\n",
              "      <td>NaN</td>\n",
              "      <td>4</td>\n",
              "      <td>10</td>\n",
              "      <td>...</td>\n",
              "      <td>2.4</td>\n",
              "      <td>2</td>\n",
              "      <td>3</td>\n",
              "      <td>6</td>\n",
              "      <td>6</td>\n",
              "      <td>17</td>\n",
              "      <td>NaN</td>\n",
              "      <td>0</td>\n",
              "      <td>0</td>\n",
              "      <td>0</td>\n",
              "    </tr>\n",
              "    <tr>\n",
              "      <th>22</th>\n",
              "      <td>17</td>\n",
              "      <td>Сиденко Мария Евгеньевна</td>\n",
              "      <td>3</td>\n",
              "      <td>5</td>\n",
              "      <td>4</td>\n",
              "      <td>1.5</td>\n",
              "      <td>3</td>\n",
              "      <td>NaN</td>\n",
              "      <td>4</td>\n",
              "      <td>5</td>\n",
              "      <td>...</td>\n",
              "      <td>8.6</td>\n",
              "      <td>2</td>\n",
              "      <td>3</td>\n",
              "      <td>5</td>\n",
              "      <td>4</td>\n",
              "      <td>14</td>\n",
              "      <td>NaN</td>\n",
              "      <td>0</td>\n",
              "      <td>0</td>\n",
              "      <td>0</td>\n",
              "    </tr>\n",
              "    <tr>\n",
              "      <th>23</th>\n",
              "      <td>18</td>\n",
              "      <td>Смоленцев Егор Владиславович</td>\n",
              "      <td>2</td>\n",
              "      <td>7</td>\n",
              "      <td>5</td>\n",
              "      <td>1.75</td>\n",
              "      <td>4</td>\n",
              "      <td>NaN</td>\n",
              "      <td>4</td>\n",
              "      <td>10</td>\n",
              "      <td>...</td>\n",
              "      <td>4.6</td>\n",
              "      <td>2</td>\n",
              "      <td>3</td>\n",
              "      <td>6</td>\n",
              "      <td>6</td>\n",
              "      <td>17</td>\n",
              "      <td>NaN</td>\n",
              "      <td>0</td>\n",
              "      <td>0</td>\n",
              "      <td>0</td>\n",
              "    </tr>\n",
              "    <tr>\n",
              "      <th>24</th>\n",
              "      <td>19</td>\n",
              "      <td>Терехова Мария Руслановна</td>\n",
              "      <td>2</td>\n",
              "      <td>3</td>\n",
              "      <td>5</td>\n",
              "      <td>1</td>\n",
              "      <td>4</td>\n",
              "      <td>NaN</td>\n",
              "      <td>3.5</td>\n",
              "      <td>8</td>\n",
              "      <td>...</td>\n",
              "      <td>2.2</td>\n",
              "      <td>2</td>\n",
              "      <td>3</td>\n",
              "      <td>6</td>\n",
              "      <td>6</td>\n",
              "      <td>17</td>\n",
              "      <td>NaN</td>\n",
              "      <td>0</td>\n",
              "      <td>0</td>\n",
              "      <td>0</td>\n",
              "    </tr>\n",
              "    <tr>\n",
              "      <th>25</th>\n",
              "      <td>20</td>\n",
              "      <td>Туринцев Кирилл Андреевич</td>\n",
              "      <td>3</td>\n",
              "      <td>3</td>\n",
              "      <td>5</td>\n",
              "      <td>4</td>\n",
              "      <td>4</td>\n",
              "      <td>NaN</td>\n",
              "      <td>4</td>\n",
              "      <td>10</td>\n",
              "      <td>...</td>\n",
              "      <td>4.4</td>\n",
              "      <td>2</td>\n",
              "      <td>3</td>\n",
              "      <td>7</td>\n",
              "      <td>6</td>\n",
              "      <td>18</td>\n",
              "      <td>NaN</td>\n",
              "      <td>0</td>\n",
              "      <td>0</td>\n",
              "      <td>0</td>\n",
              "    </tr>\n",
              "    <tr>\n",
              "      <th>26</th>\n",
              "      <td>21</td>\n",
              "      <td>Усатый Алина Сергеевна</td>\n",
              "      <td>4</td>\n",
              "      <td>5</td>\n",
              "      <td>4</td>\n",
              "      <td>2</td>\n",
              "      <td>3</td>\n",
              "      <td>NaN</td>\n",
              "      <td>3</td>\n",
              "      <td>10</td>\n",
              "      <td>...</td>\n",
              "      <td>7.1</td>\n",
              "      <td>1</td>\n",
              "      <td>2</td>\n",
              "      <td>5</td>\n",
              "      <td>5</td>\n",
              "      <td>13</td>\n",
              "      <td>NaN</td>\n",
              "      <td>0</td>\n",
              "      <td>0</td>\n",
              "      <td>0</td>\n",
              "    </tr>\n",
              "    <tr>\n",
              "      <th>27</th>\n",
              "      <td>NaN</td>\n",
              "      <td>NaN</td>\n",
              "      <td>NaN</td>\n",
              "      <td>NaN</td>\n",
              "      <td>NaN</td>\n",
              "      <td>NaN</td>\n",
              "      <td>NaN</td>\n",
              "      <td>NaN</td>\n",
              "      <td>NaN</td>\n",
              "      <td>NaN</td>\n",
              "      <td>...</td>\n",
              "      <td>NaN</td>\n",
              "      <td>NaN</td>\n",
              "      <td>NaN</td>\n",
              "      <td>NaN</td>\n",
              "      <td>NaN</td>\n",
              "      <td>NaN</td>\n",
              "      <td>NaN</td>\n",
              "      <td>NaN</td>\n",
              "      <td>NaN</td>\n",
              "      <td>NaN</td>\n",
              "    </tr>\n",
              "    <tr>\n",
              "      <th>28</th>\n",
              "      <td>NaN</td>\n",
              "      <td>Особый вариант (КМ211)</td>\n",
              "      <td>NaN</td>\n",
              "      <td>NaN</td>\n",
              "      <td>NaN</td>\n",
              "      <td>NaN</td>\n",
              "      <td>NaN</td>\n",
              "      <td>NaN</td>\n",
              "      <td>NaN</td>\n",
              "      <td>NaN</td>\n",
              "      <td>...</td>\n",
              "      <td>NaN</td>\n",
              "      <td>NaN</td>\n",
              "      <td>NaN</td>\n",
              "      <td>NaN</td>\n",
              "      <td>NaN</td>\n",
              "      <td>NaN</td>\n",
              "      <td>NaN</td>\n",
              "      <td>NaN</td>\n",
              "      <td>NaN</td>\n",
              "      <td>NaN</td>\n",
              "    </tr>\n",
              "    <tr>\n",
              "      <th>29</th>\n",
              "      <td>NaN</td>\n",
              "      <td>NaN</td>\n",
              "      <td>NaN</td>\n",
              "      <td>NaN</td>\n",
              "      <td>NaN</td>\n",
              "      <td>NaN</td>\n",
              "      <td>NaN</td>\n",
              "      <td>NaN</td>\n",
              "      <td>NaN</td>\n",
              "      <td>NaN</td>\n",
              "      <td>...</td>\n",
              "      <td>NaN</td>\n",
              "      <td>NaN</td>\n",
              "      <td>NaN</td>\n",
              "      <td>NaN</td>\n",
              "      <td>NaN</td>\n",
              "      <td>NaN</td>\n",
              "      <td>NaN</td>\n",
              "      <td>NaN</td>\n",
              "      <td>NaN</td>\n",
              "      <td>NaN</td>\n",
              "    </tr>\n",
              "    <tr>\n",
              "      <th>30</th>\n",
              "      <td>NaN</td>\n",
              "      <td>ИДЗ</td>\n",
              "      <td>https://drive.google.com/folderview?id=17hQSoe...</td>\n",
              "      <td>NaN</td>\n",
              "      <td>NaN</td>\n",
              "      <td>NaN</td>\n",
              "      <td>NaN</td>\n",
              "      <td>NaN</td>\n",
              "      <td>NaN</td>\n",
              "      <td>NaN</td>\n",
              "      <td>...</td>\n",
              "      <td>NaN</td>\n",
              "      <td>NaN</td>\n",
              "      <td>NaN</td>\n",
              "      <td>NaN</td>\n",
              "      <td>NaN</td>\n",
              "      <td>NaN</td>\n",
              "      <td>NaN</td>\n",
              "      <td>NaN</td>\n",
              "      <td>NaN</td>\n",
              "      <td>NaN</td>\n",
              "    </tr>\n",
              "    <tr>\n",
              "      <th>31</th>\n",
              "      <td>NaN</td>\n",
              "      <td>NaN</td>\n",
              "      <td>NaN</td>\n",
              "      <td>NaN</td>\n",
              "      <td>NaN</td>\n",
              "      <td>NaN</td>\n",
              "      <td>NaN</td>\n",
              "      <td>NaN</td>\n",
              "      <td>NaN</td>\n",
              "      <td>NaN</td>\n",
              "      <td>...</td>\n",
              "      <td>NaN</td>\n",
              "      <td>NaN</td>\n",
              "      <td>NaN</td>\n",
              "      <td>NaN</td>\n",
              "      <td>NaN</td>\n",
              "      <td>NaN</td>\n",
              "      <td>NaN</td>\n",
              "      <td>NaN</td>\n",
              "      <td>NaN</td>\n",
              "      <td>NaN</td>\n",
              "    </tr>\n",
              "    <tr>\n",
              "      <th>32</th>\n",
              "      <td>NaN</td>\n",
              "      <td>NaN</td>\n",
              "      <td>NaN</td>\n",
              "      <td>NaN</td>\n",
              "      <td>NaN</td>\n",
              "      <td>NaN</td>\n",
              "      <td>NaN</td>\n",
              "      <td>NaN</td>\n",
              "      <td>NaN</td>\n",
              "      <td>NaN</td>\n",
              "      <td>...</td>\n",
              "      <td>NaN</td>\n",
              "      <td>Первый</td>\n",
              "      <td>Второй</td>\n",
              "      <td>Третий</td>\n",
              "      <td>Четверый</td>\n",
              "      <td>NaN</td>\n",
              "      <td>NaN</td>\n",
              "      <td>NaN</td>\n",
              "      <td>NaN</td>\n",
              "      <td>NaN</td>\n",
              "    </tr>\n",
              "    <tr>\n",
              "      <th>33</th>\n",
              "      <td>NaN</td>\n",
              "      <td>NaN</td>\n",
              "      <td>Первый</td>\n",
              "      <td>NaN</td>\n",
              "      <td>NaN</td>\n",
              "      <td>NaN</td>\n",
              "      <td>NaN</td>\n",
              "      <td>NaN</td>\n",
              "      <td>NaN</td>\n",
              "      <td>NaN</td>\n",
              "      <td>...</td>\n",
              "      <td>Долг идз</td>\n",
              "      <td>6</td>\n",
              "      <td>13</td>\n",
              "      <td>19</td>\n",
              "      <td>19</td>\n",
              "      <td>NaN</td>\n",
              "      <td>NaN</td>\n",
              "      <td>NaN</td>\n",
              "      <td>NaN</td>\n",
              "      <td>NaN</td>\n",
              "    </tr>\n",
              "    <tr>\n",
              "      <th>34</th>\n",
              "      <td>NaN</td>\n",
              "      <td>Долг идз</td>\n",
              "      <td>NaN</td>\n",
              "      <td>NaN</td>\n",
              "      <td>NaN</td>\n",
              "      <td>NaN</td>\n",
              "      <td>NaN</td>\n",
              "      <td>NaN</td>\n",
              "      <td>NaN</td>\n",
              "      <td>NaN</td>\n",
              "      <td>...</td>\n",
              "      <td>NaN</td>\n",
              "      <td>NaN</td>\n",
              "      <td>NaN</td>\n",
              "      <td>NaN</td>\n",
              "      <td>NaN</td>\n",
              "      <td>NaN</td>\n",
              "      <td>NaN</td>\n",
              "      <td>NaN</td>\n",
              "      <td>NaN</td>\n",
              "      <td>NaN</td>\n",
              "    </tr>\n",
              "    <tr>\n",
              "      <th>35</th>\n",
              "      <td>NaN</td>\n",
              "      <td>NaN</td>\n",
              "      <td>NaN</td>\n",
              "      <td>NaN</td>\n",
              "      <td>NaN</td>\n",
              "      <td>NaN</td>\n",
              "      <td>NaN</td>\n",
              "      <td>NaN</td>\n",
              "      <td>NaN</td>\n",
              "      <td>NaN</td>\n",
              "      <td>...</td>\n",
              "      <td>NaN</td>\n",
              "      <td>NaN</td>\n",
              "      <td>NaN</td>\n",
              "      <td>NaN</td>\n",
              "      <td>NaN</td>\n",
              "      <td>NaN</td>\n",
              "      <td>NaN</td>\n",
              "      <td>NaN</td>\n",
              "      <td>NaN</td>\n",
              "      <td>NaN</td>\n",
              "    </tr>\n",
              "    <tr>\n",
              "      <th>36</th>\n",
              "      <td>NaN</td>\n",
              "      <td>NaN</td>\n",
              "      <td>NaN</td>\n",
              "      <td>NaN</td>\n",
              "      <td>лабы цвет</td>\n",
              "      <td>NaN</td>\n",
              "      <td>NaN</td>\n",
              "      <td>NaN</td>\n",
              "      <td>NaN</td>\n",
              "      <td>NaN</td>\n",
              "      <td>...</td>\n",
              "      <td>NaN</td>\n",
              "      <td>NaN</td>\n",
              "      <td>NaN</td>\n",
              "      <td>NaN</td>\n",
              "      <td>NaN</td>\n",
              "      <td>NaN</td>\n",
              "      <td>NaN</td>\n",
              "      <td>NaN</td>\n",
              "      <td>NaN</td>\n",
              "      <td>NaN</td>\n",
              "    </tr>\n",
              "    <tr>\n",
              "      <th>37</th>\n",
              "      <td>NaN</td>\n",
              "      <td>NaN</td>\n",
              "      <td>NaN</td>\n",
              "      <td>NaN</td>\n",
              "      <td>NaN</td>\n",
              "      <td>NaN</td>\n",
              "      <td>NaN</td>\n",
              "      <td>NaN</td>\n",
              "      <td>NaN</td>\n",
              "      <td>NaN</td>\n",
              "      <td>...</td>\n",
              "      <td>NaN</td>\n",
              "      <td>NaN</td>\n",
              "      <td>NaN</td>\n",
              "      <td>NaN</td>\n",
              "      <td>NaN</td>\n",
              "      <td>NaN</td>\n",
              "      <td>NaN</td>\n",
              "      <td>NaN</td>\n",
              "      <td>NaN</td>\n",
              "      <td>NaN</td>\n",
              "    </tr>\n",
              "    <tr>\n",
              "      <th>38</th>\n",
              "      <td>NaN</td>\n",
              "      <td>изменения после 28.12 включительно</td>\n",
              "      <td>NaN</td>\n",
              "      <td>NaN</td>\n",
              "      <td>NaN</td>\n",
              "      <td>NaN</td>\n",
              "      <td>NaN</td>\n",
              "      <td>NaN</td>\n",
              "      <td>NaN</td>\n",
              "      <td>NaN</td>\n",
              "      <td>...</td>\n",
              "      <td>NaN</td>\n",
              "      <td>NaN</td>\n",
              "      <td>NaN</td>\n",
              "      <td>NaN</td>\n",
              "      <td>NaN</td>\n",
              "      <td>NaN</td>\n",
              "      <td>NaN</td>\n",
              "      <td>NaN</td>\n",
              "      <td>NaN</td>\n",
              "      <td>NaN</td>\n",
              "    </tr>\n",
              "    <tr>\n",
              "      <th>39</th>\n",
              "      <td>NaN</td>\n",
              "      <td>NaN</td>\n",
              "      <td>NaN</td>\n",
              "      <td>NaN</td>\n",
              "      <td>11.01.22 лабы консультация</td>\n",
              "      <td>NaN</td>\n",
              "      <td>NaN</td>\n",
              "      <td>NaN</td>\n",
              "      <td>NaN</td>\n",
              "      <td>NaN</td>\n",
              "      <td>...</td>\n",
              "      <td>NaN</td>\n",
              "      <td>NaN</td>\n",
              "      <td>NaN</td>\n",
              "      <td>NaN</td>\n",
              "      <td>NaN</td>\n",
              "      <td>NaN</td>\n",
              "      <td>NaN</td>\n",
              "      <td>NaN</td>\n",
              "      <td>NaN</td>\n",
              "      <td>NaN</td>\n",
              "    </tr>\n",
              "  </tbody>\n",
              "</table>\n",
              "<p>40 rows × 24 columns</p>\n",
              "</div>"
            ],
            "text/plain": [
              "   Unnamed: 0                           Экспортированная таблица  \\\n",
              "0         NaN  Журнал группы ИВТ-31 (2019 г., бакалавры) по д...   \n",
              "1         NaN                                            Семестр   \n",
              "2         NaN                                            Неделя:   \n",
              "3         NaN                                          Название:   \n",
              "4         NaN                                            Тип КМ:   \n",
              "5       н п/п                                              Балл:   \n",
              "6           1                         Аксенов Иван Александрович   \n",
              "7           2                         Бантуров Николай Сергеевич   \n",
              "8           3                        Винокурова Елена Михайловна   \n",
              "9           4                            Громов Артем Алексеевич   \n",
              "10          5                             Дьяков Алексей Юрьевич   \n",
              "11          6                              Еремеев Данил Юрьевич   \n",
              "12          7                     Завалишина Анастасия Андреевна   \n",
              "13          8                        Завирюхин Денис Анатольевич   \n",
              "14          9                         Калинкина Алина Алексеевна   \n",
              "15         10                        Козин Алексей Александрович   \n",
              "16         11                           Лапицкий Артём Романович   \n",
              "17         12                           Логинов Семен Дмитриевич   \n",
              "18         13                          Макеенко Роман Михайлович   \n",
              "19         14                    Перетятько Артём Константинович   \n",
              "20         15                      Питомец Арсений Александрович   \n",
              "21         16                      Протасова Екатерина Андреевна   \n",
              "22         17                           Сиденко Мария Евгеньевна   \n",
              "23         18                       Смоленцев Егор Владиславович   \n",
              "24         19                          Терехова Мария Руслановна   \n",
              "25         20                          Туринцев Кирилл Андреевич   \n",
              "26         21                             Усатый Алина Сергеевна   \n",
              "27        NaN                                                NaN   \n",
              "28        NaN                             Особый вариант (КМ211)   \n",
              "29        NaN                                                NaN   \n",
              "30        NaN                                                ИДЗ   \n",
              "31        NaN                                                NaN   \n",
              "32        NaN                                                NaN   \n",
              "33        NaN                                                NaN   \n",
              "34        NaN                                           Долг идз   \n",
              "35        NaN                                                NaN   \n",
              "36        NaN                                                NaN   \n",
              "37        NaN                                                NaN   \n",
              "38        NaN                 изменения после 28.12 включительно   \n",
              "39        NaN                                                NaN   \n",
              "\n",
              "                                           Unnamed: 2       Unnamed: 3  \\\n",
              "0                                                 NaN              NaN   \n",
              "1                          2021 - 2022 год, 1 семестр              NaN   \n",
              "2                                                   2              NaN   \n",
              "3                    Логические операции, кодирование  Протокол обмена   \n",
              "4                                                СР.1          Вариант   \n",
              "5                                                   4              NaN   \n",
              "6                                                   2                5   \n",
              "7                                                   4                4   \n",
              "8                                                   3                5   \n",
              "9                                                   4                7   \n",
              "10                                                  4              NaN   \n",
              "11                                                  1                6   \n",
              "12                                           Не ходит              NaN   \n",
              "13                                                  3                4   \n",
              "14                                                  4                3   \n",
              "15                                                  1                7   \n",
              "16                                                2.5                6   \n",
              "17                                           Не ходит              NaN   \n",
              "18                                                  1                6   \n",
              "19                                                  3                4   \n",
              "20                                                  4              NaN   \n",
              "21                                                  4                7   \n",
              "22                                                  3                5   \n",
              "23                                                  2                7   \n",
              "24                                                  2                3   \n",
              "25                                                  3                3   \n",
              "26                                                  4                5   \n",
              "27                                                NaN              NaN   \n",
              "28                                                NaN              NaN   \n",
              "29                                                NaN              NaN   \n",
              "30  https://drive.google.com/folderview?id=17hQSoe...              NaN   \n",
              "31                                                NaN              NaN   \n",
              "32                                                NaN              NaN   \n",
              "33                                             Первый              NaN   \n",
              "34                                                NaN              NaN   \n",
              "35                                                NaN              NaN   \n",
              "36                                                NaN              NaN   \n",
              "37                                                NaN              NaN   \n",
              "38                                                NaN              NaN   \n",
              "39                                                NaN              NaN   \n",
              "\n",
              "                    Unnamed: 4           Unnamed: 5 Unnamed: 6 Unnamed: 7  \\\n",
              "0                          NaN                  NaN        NaN        NaN   \n",
              "1                          NaN                  NaN        NaN        NaN   \n",
              "2                            5                    6          7          8   \n",
              "3                          NaN              SPI I2C    UART RS        NaN   \n",
              "4                         КЗ.1                 СР.2       СР.3      А/П.1   \n",
              "5                            5                    4          4          2   \n",
              "6                            4                    4          4        NaN   \n",
              "7                            5                    1          3        NaN   \n",
              "8                            4                    2          3        NaN   \n",
              "9                            5  2021-05-01 00:00:00          3        NaN   \n",
              "10                           5                    3          2        NaN   \n",
              "11                           5                    1          4        NaN   \n",
              "12                         NaN                    н          н        NaN   \n",
              "13                      Макс 4                  0.5          4        NaN   \n",
              "14                           5  2021-05-03 00:00:00          4        NaN   \n",
              "15                           5  2021-05-03 00:00:00          2        NaN   \n",
              "16                           5                  0.5          4        NaN   \n",
              "17                         NaN                    н          н        NaN   \n",
              "18                           4                  0.5          2        NaN   \n",
              "19                      Макс 4                  0.5          4        NaN   \n",
              "20                           5                  2.5          3        NaN   \n",
              "21                           5  2021-05-03 00:00:00          3        NaN   \n",
              "22                           4                  1.5          3        NaN   \n",
              "23                           5                 1.75          4        NaN   \n",
              "24                           5                    1          4        NaN   \n",
              "25                           5                    4          4        NaN   \n",
              "26                           4                    2          3        NaN   \n",
              "27                         NaN                  NaN        NaN        NaN   \n",
              "28                         NaN                  NaN        NaN        NaN   \n",
              "29                         NaN                  NaN        NaN        NaN   \n",
              "30                         NaN                  NaN        NaN        NaN   \n",
              "31                         NaN                  NaN        NaN        NaN   \n",
              "32                         NaN                  NaN        NaN        NaN   \n",
              "33                         NaN                  NaN        NaN        NaN   \n",
              "34                         NaN                  NaN        NaN        NaN   \n",
              "35                         NaN                  NaN        NaN        NaN   \n",
              "36                   лабы цвет                  NaN        NaN        NaN   \n",
              "37                         NaN                  NaN        NaN        NaN   \n",
              "38                         NaN                  NaN        NaN        NaN   \n",
              "39  11.01.22 лабы консультация                  NaN        NaN        NaN   \n",
              "\n",
              "   Unnamed: 8             Unnamed: 9  ...  Unnamed: 14  Unnamed: 15  \\\n",
              "0         NaN                    NaN  ...          NaN          NaN   \n",
              "1         NaN                    NaN  ...          NaN          NaN   \n",
              "2           9                     10  ...          NaN          NaN   \n",
              "3   USB - МПК  Лабораторная работа 1  ...          NaN          NaN   \n",
              "4        СР.4                   ЛР.1  ...  Вариант ИДЗ  Первый этап   \n",
              "5           4                     10  ...          NaN            2   \n",
              "6           4                      7  ...          2.1            2   \n",
              "7           3                     10  ...          1.3            2   \n",
              "8         3.5                      1  ...          8.2            2   \n",
              "9           4                      1  ...          7.4          NaN   \n",
              "10        3.5                      8  ...          8.1            2   \n",
              "11          3                     10  ...          1.6            2   \n",
              "12          н                    NaN  ...          4.2          NaN   \n",
              "13          н                      5  ...          5.3          NaN   \n",
              "14          4                     10  ...          1.2            2   \n",
              "15        3.5                      8  ...          6.6            2   \n",
              "16          0                      1  ...          2.5            1   \n",
              "17          н                    NaN  ...          7.5          NaN   \n",
              "18          3                    NaN  ...          1.1          1.5   \n",
              "19          3                      3  ...          5.4          NaN   \n",
              "20       3.25                     10  ...          2.7          1.5   \n",
              "21          4                     10  ...          2.4            2   \n",
              "22          4                      5  ...          8.6            2   \n",
              "23          4                     10  ...          4.6            2   \n",
              "24        3.5                      8  ...          2.2            2   \n",
              "25          4                     10  ...          4.4            2   \n",
              "26          3                     10  ...          7.1            1   \n",
              "27        NaN                    NaN  ...          NaN          NaN   \n",
              "28        NaN                    NaN  ...          NaN          NaN   \n",
              "29        NaN                    NaN  ...          NaN          NaN   \n",
              "30        NaN                    NaN  ...          NaN          NaN   \n",
              "31        NaN                    NaN  ...          NaN          NaN   \n",
              "32        NaN                    NaN  ...          NaN       Первый   \n",
              "33        NaN                    NaN  ...     Долг идз            6   \n",
              "34        NaN                    NaN  ...          NaN          NaN   \n",
              "35        NaN                    NaN  ...          NaN          NaN   \n",
              "36        NaN                    NaN  ...          NaN          NaN   \n",
              "37        NaN                    NaN  ...          NaN          NaN   \n",
              "38        NaN                    NaN  ...          NaN          NaN   \n",
              "39        NaN                    NaN  ...          NaN          NaN   \n",
              "\n",
              "    Unnamed: 16  Unnamed: 17     Unnamed: 18  \\\n",
              "0           NaN          NaN             NaN   \n",
              "1           NaN          NaN             NaN   \n",
              "2           NaN          NaN             NaN   \n",
              "3           NaN          NaN             NaN   \n",
              "4   Второй Этап  Третий этап  Четвертый этап   \n",
              "5             3            7               6   \n",
              "6             3            5               2   \n",
              "7             2            1               2   \n",
              "8             3            4               4   \n",
              "9           NaN          NaN             NaN   \n",
              "10          NaN          NaN             NaN   \n",
              "11            2            3               5   \n",
              "12          NaN          NaN             NaN   \n",
              "13          NaN          NaN             NaN   \n",
              "14            3            7               6   \n",
              "15            3            5               6   \n",
              "16            2          NaN               3   \n",
              "17          NaN          NaN             NaN   \n",
              "18          2.5          NaN             NaN   \n",
              "19          NaN          NaN             NaN   \n",
              "20            3            6               6   \n",
              "21            3            6               6   \n",
              "22            3            5               4   \n",
              "23            3            6               6   \n",
              "24            3            6               6   \n",
              "25            3            7               6   \n",
              "26            2            5               5   \n",
              "27          NaN          NaN             NaN   \n",
              "28          NaN          NaN             NaN   \n",
              "29          NaN          NaN             NaN   \n",
              "30          NaN          NaN             NaN   \n",
              "31          NaN          NaN             NaN   \n",
              "32       Второй       Третий        Четверый   \n",
              "33           13           19              19   \n",
              "34          NaN          NaN             NaN   \n",
              "35          NaN          NaN             NaN   \n",
              "36          NaN          NaN             NaN   \n",
              "37          NaN          NaN             NaN   \n",
              "38          NaN          NaN             NaN   \n",
              "39          NaN          NaN             NaN   \n",
              "\n",
              "                              Unnamed: 19 Unnamed: 20         Unnamed: 21  \\\n",
              "0                                     NaN         NaN                 NaN   \n",
              "1                                     NaN         NaN  Общая сумма баллов   \n",
              "2                                      17        Итог                 NaN   \n",
              "3   Проектирование вычислительной системы         NaN                 NaN   \n",
              "4                                    КМ.1        Итог                 NaN   \n",
              "5                                      18          21                 100   \n",
              "6                                      12         NaN                   0   \n",
              "7                                       7         NaN                   0   \n",
              "8                                      13         NaN                   0   \n",
              "9                                       0         NaN                   0   \n",
              "10                                      2         NaN                   0   \n",
              "11                                     12         NaN                   0   \n",
              "12                                      0         NaN                   0   \n",
              "13                                      0         NaN                   0   \n",
              "14                                     18         NaN                   0   \n",
              "15                                     16         NaN                   0   \n",
              "16                                      6         NaN                   0   \n",
              "17                                      0         NaN                   0   \n",
              "18                                      4         NaN                   0   \n",
              "19                                      0         NaN                   0   \n",
              "20                                   16.5         NaN                   0   \n",
              "21                                     17         NaN                   0   \n",
              "22                                     14         NaN                   0   \n",
              "23                                     17         NaN                   0   \n",
              "24                                     17         NaN                   0   \n",
              "25                                     18         NaN                   0   \n",
              "26                                     13         NaN                   0   \n",
              "27                                    NaN         NaN                 NaN   \n",
              "28                                    NaN         NaN                 NaN   \n",
              "29                                    NaN         NaN                 NaN   \n",
              "30                                    NaN         NaN                 NaN   \n",
              "31                                    NaN         NaN                 NaN   \n",
              "32                                    NaN         NaN                 NaN   \n",
              "33                                    NaN         NaN                 NaN   \n",
              "34                                    NaN         NaN                 NaN   \n",
              "35                                    NaN         NaN                 NaN   \n",
              "36                                    NaN         NaN                 NaN   \n",
              "37                                    NaN         NaN                 NaN   \n",
              "38                                    NaN         NaN                 NaN   \n",
              "39                                    NaN         NaN                 NaN   \n",
              "\n",
              "             Unnamed: 22     Unnamed: 23  \n",
              "0                    NaN             NaN  \n",
              "1   Текущая сумма баллов  Текущая оценка  \n",
              "2                    NaN             NaN  \n",
              "3                    NaN             NaN  \n",
              "4                    NaN             NaN  \n",
              "5                      0             NaN  \n",
              "6                      0               0  \n",
              "7                      0               0  \n",
              "8                      0               0  \n",
              "9                      0               0  \n",
              "10                     0               0  \n",
              "11                     0               0  \n",
              "12                     0               0  \n",
              "13                     0               0  \n",
              "14                     0               0  \n",
              "15                     0               0  \n",
              "16                     0               0  \n",
              "17                     0               0  \n",
              "18                     0               0  \n",
              "19                     0               0  \n",
              "20                     0               0  \n",
              "21                     0               0  \n",
              "22                     0               0  \n",
              "23                     0               0  \n",
              "24                     0               0  \n",
              "25                     0               0  \n",
              "26                     0               0  \n",
              "27                   NaN             NaN  \n",
              "28                   NaN             NaN  \n",
              "29                   NaN             NaN  \n",
              "30                   NaN             NaN  \n",
              "31                   NaN             NaN  \n",
              "32                   NaN             NaN  \n",
              "33                   NaN             NaN  \n",
              "34                   NaN             NaN  \n",
              "35                   NaN             NaN  \n",
              "36                   NaN             NaN  \n",
              "37                   NaN             NaN  \n",
              "38                   NaN             NaN  \n",
              "39                   NaN             NaN  \n",
              "\n",
              "[40 rows x 24 columns]"
            ]
          },
          "execution_count": 47,
          "metadata": {},
          "output_type": "execute_result"
        }
      ],
      "source": [
        "data = pd.read_excel('Interface_2021.xlsx')\n",
        "data"
      ]
    },
    {
      "cell_type": "markdown",
      "metadata": {},
      "source": [
        "Домашнее задание: \n",
        "\n",
        "1.  Создайте по одной переменной типа list, tuple, str. Выведете их с помощью одной команды print друг под другом, используя f-строки. \n",
        "2.\tСоздайте телефонную книгу на 5 контактов с помощью словаря. Ключ - Имя, значение -  телефон. \n",
        "3.\tС помощью цикла for выведите только те контакты, длина имени которых больше 5.\n",
        "Формат вывода: «Имя: Василий; Телефон: +79109776655»\n",
        "4.\tНапишите функцию my_div(a, b, zero_mode=False), принимающую 3 аргумента Функция должна выполнять операцию деления a / b.\n",
        "В случае деления на ноль при zero_mode =  False, выводится сообщение «Деление на 0». В случае деления на ноль при zero_mode = True, возвращается значение inf. Придумайте решение с использованием try – except. Функция не должна выдавать ломаться даже при неверных входных данных.\n",
        "*для использования inf необходимо подключить библиотеку numpy (import numpy as np)\n"
      ]
    },
    {
      "cell_type": "markdown",
      "metadata": {},
      "source": [
        "№1\n",
        "1.  Создайте по одной переменной типа list, tuple, str. Выведете их с помощью одной команды print друг под другом, используя f-строки."
      ]
    },
    {
      "cell_type": "code",
      "execution_count": 6,
      "metadata": {},
      "outputs": [
        {
          "name": "stdout",
          "output_type": "stream",
          "text": [
            "[1, 2, 2, 2]\n",
            "(1, 2, 2, 2)\n",
            "1222\n"
          ]
        }
      ],
      "source": [
        "a_list = [1,2,2,2]\n",
        "b_tuple = (1,2,2,2)\n",
        "c_str = '1222'\n",
        "print(f'{a_list}\\n{b_tuple}\\n{c_str}')"
      ]
    },
    {
      "cell_type": "markdown",
      "metadata": {},
      "source": [
        "№2\n",
        "2.\tСоздайте телефонную книгу на 5 контактов с помощью словаря. Ключ - Имя, значение -  телефон. "
      ]
    },
    {
      "cell_type": "code",
      "execution_count": 8,
      "metadata": {},
      "outputs": [
        {
          "name": "stdout",
          "output_type": "stream",
          "text": [
            "{'Дмитрий': 89258896637, 'Дима': 89258896638, 'Митя': 89258896639, 'Димитрий': 89258896640, 'Димуша': 89258896641}\n"
          ]
        }
      ],
      "source": [
        "a_dict = {  'Дмитрий'   : 89258896637, \n",
        "            'Дима'      : 89258896638, \n",
        "            'Митя'      : 89258896639, \n",
        "            'Димитрий'  : 89258896640,\n",
        "            'Димуша'    : 89258896641}\n",
        "print(a_dict)"
      ]
    },
    {
      "cell_type": "markdown",
      "metadata": {},
      "source": [
        "№3\n",
        "3.\tС помощью цикла for выведите только те контакты, длина имени которых больше 5.\n",
        "Формат вывода: «Имя: Василий; Телефон: +79109776655»"
      ]
    },
    {
      "cell_type": "code",
      "execution_count": 10,
      "metadata": {},
      "outputs": [
        {
          "name": "stdout",
          "output_type": "stream",
          "text": [
            "89258896637\n",
            "89258896640\n",
            "89258896641\n"
          ]
        }
      ],
      "source": [
        "for name in a_dict.keys():\n",
        "    if len(name) > 5:\n",
        "        print(a_dict[name])"
      ]
    },
    {
      "cell_type": "markdown",
      "metadata": {},
      "source": [
        "№4\n",
        "4. Напишите функцию my_div(a, b, zero_mode=False), принимающую 3 аргумента Функция должна выполнять операцию деления a / b.\n",
        "В случае деления на ноль при zero_mode =  False, выводится сообщение «Деление на 0». В случае деления на ноль при zero_mode = True, возвращается значение inf. Придумайте решение с использованием try – except. Функция не должна выдавать ломаться даже при неверных входных данных.\n",
        "*для использования inf необходимо подключить библиотеку numpy (import numpy as np)"
      ]
    },
    {
      "cell_type": "markdown",
      "metadata": {},
      "source": []
    },
    {
      "cell_type": "code",
      "execution_count": 15,
      "metadata": {},
      "outputs": [
        {
          "name": "stdout",
          "output_type": "stream",
          "text": [
            "Деление на 0\n",
            "inf \n",
            " None \n",
            " 1.0\n"
          ]
        }
      ],
      "source": [
        "import numpy as np\n",
        "\n",
        "def my_div(a, b, zero_mode=False):\n",
        "    if zero_mode == False and b == 0:\n",
        "        c = None\n",
        "        print('Деление на 0')\n",
        "    elif zero_mode == True and b == 0:\n",
        "        c = 'inf'\n",
        "    else:\n",
        "        c = a/b\n",
        "    return c\n",
        "\n",
        "print(my_div(5, 0, True), '\\n' , my_div(5, 0, False), '\\n', my_div(5, 5, True))\n",
        "         "
      ]
    }
  ],
  "metadata": {
    "colab": {
      "provenance": []
    },
    "kernelspec": {
      "display_name": "Python 3.10.4 64-bit",
      "language": "python",
      "name": "python3"
    },
    "language_info": {
      "codemirror_mode": {
        "name": "ipython",
        "version": 3
      },
      "file_extension": ".py",
      "mimetype": "text/x-python",
      "name": "python",
      "nbconvert_exporter": "python",
      "pygments_lexer": "ipython3",
      "version": "3.10.4"
    },
    "orig_nbformat": 4,
    "vscode": {
      "interpreter": {
        "hash": "26de051ba29f2982a8de78e945f0abaf191376122a1563185a90213a26c5da77"
      }
    }
  },
  "nbformat": 4,
  "nbformat_minor": 0
}
